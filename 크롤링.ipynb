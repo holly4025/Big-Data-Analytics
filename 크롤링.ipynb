{
 "cells": [
  {
   "cell_type": "code",
   "execution_count": 1,
   "metadata": {},
   "outputs": [],
   "source": [
    "import csv\n",
    "import time\n",
    "import bs4\n",
    "import urllib.request"
   ]
  },
  {
   "cell_type": "code",
   "execution_count": 2,
   "metadata": {},
   "outputs": [],
   "source": [
    "html = 'https://movie.daum.net/ranking/boxoffice/yearly'"
   ]
  },
  {
   "cell_type": "code",
   "execution_count": 3,
   "metadata": {},
   "outputs": [],
   "source": [
    "html_object = urllib.request.urlopen(html)"
   ]
  },
  {
   "cell_type": "code",
   "execution_count": 4,
   "metadata": {},
   "outputs": [],
   "source": [
    "webPage = html_object.read()"
   ]
  },
  {
   "cell_type": "code",
   "execution_count": 5,
   "metadata": {},
   "outputs": [],
   "source": [
    "bsObject = bs4.BeautifulSoup(webPage, 'html.parser')"
   ]
  },
  {
   "cell_type": "code",
   "execution_count": 8,
   "metadata": {},
   "outputs": [],
   "source": [
    "tag = bsObject.find('ol', {'class':'list_movieranking'})"
   ]
  },
  {
   "cell_type": "code",
   "execution_count": 44,
   "metadata": {},
   "outputs": [],
   "source": [
    "titles = tag.findAll('img')\n",
    "releases = tag.findAll('span', {'class':'txt_num'})\n",
    "audiences = tag.findAll('span', {'id':'text'})"
   ]
  },
  {
   "cell_type": "code",
   "execution_count": 45,
   "metadata": {},
   "outputs": [
    {
     "data": {
      "text/plain": [
       "[<img alt=\"범죄도시2\" class=\"img_thumb\" src=\"https://img1.daumcdn.net/thumb/C408x596/?fname=https%3A%2F%2Ft1.daumcdn.net%2Fmovie%2F3f7e3035989e7918c6426e541c864d0d8a295de2\"/>,\n",
       " <img alt=\"탑건: 매버릭\" class=\"img_thumb\" src=\"https://img1.daumcdn.net/thumb/C408x596/?fname=https%3A%2F%2Ft1.daumcdn.net%2Fmovie%2F4eb261668eb43a125d0adc250a89adb48216c005\"/>,\n",
       " <img alt=\"아바타: 물의 길\" class=\"img_thumb\" src=\"https://img1.daumcdn.net/thumb/C408x596/?fname=https%3A%2F%2Ft1.daumcdn.net%2Fmovie%2F0cdb0abb3d8da8c6332bf6a945a86f9a32f67abd\"/>,\n",
       " <img alt=\"한산: 용의 출현\" class=\"img_thumb\" src=\"https://img1.daumcdn.net/thumb/C408x596/?fname=https%3A%2F%2Ft1.daumcdn.net%2Fmovie%2F2032840c034ca7a2536b55adabb0e8a5ca99dd83\"/>,\n",
       " <img alt=\"공조2: 인터내셔날\" class=\"img_thumb\" src=\"https://img1.daumcdn.net/thumb/C408x596/?fname=https%3A%2F%2Ft1.daumcdn.net%2Fmovie%2F36f22dea0e0a9e0e626c549ce689558160c46ed4\"/>,\n",
       " <img alt=\"닥터 스트레인지: 대혼돈의 멀티버스\" class=\"img_thumb\" src=\"https://img1.daumcdn.net/thumb/C408x596/?fname=https%3A%2F%2Ft1.daumcdn.net%2Fmovie%2Fa645a5285e0758cc1fdff9b3aa72d5fb234a7fa9\"/>,\n",
       " <img alt=\"헌트\" class=\"img_thumb\" src=\"https://img1.daumcdn.net/thumb/C408x596/?fname=https%3A%2F%2Ft1.daumcdn.net%2Fmovie%2F02ef8515570b2950e9f24d663cae807e7f40b5f2\"/>,\n",
       " <img alt=\"올빼미\" class=\"img_thumb\" src=\"https://img1.daumcdn.net/thumb/C408x596/?fname=https%3A%2F%2Ft1.daumcdn.net%2Fmovie%2F4899f10a714f3b1cb5bf9569f84e96df0020d414\"/>,\n",
       " <img alt=\"쥬라기 월드: 도미니언\" class=\"img_thumb\" src=\"https://img1.daumcdn.net/thumb/C408x596/?fname=https%3A%2F%2Ft1.daumcdn.net%2Fmovie%2F5d3c3e6f0e2078681fb0f1a17240e901a8638bd3\"/>,\n",
       " <img alt=\"마녀(魔女) Part2. The Other One\" class=\"img_thumb\" src=\"https://img1.daumcdn.net/thumb/C408x596/?fname=https%3A%2F%2Ft1.daumcdn.net%2Fmovie%2F9a03fb5ab29f3ae61de729ce21f42592f512cb23\"/>,\n",
       " <img alt=\"토르: 러브 앤 썬더\" class=\"img_thumb\" src=\"https://img1.daumcdn.net/thumb/C408x596/?fname=https%3A%2F%2Ft1.daumcdn.net%2Fmovie%2Fa8bb59792be27ba3f51b20b427873611e15e1c1d\"/>,\n",
       " <img alt=\"미니언즈2\" class=\"img_thumb\" src=\"https://img1.daumcdn.net/thumb/C408x596/?fname=https%3A%2F%2Ft1.daumcdn.net%2Fmovie%2F1eef5d86e3c1771cf119e5ad96fe4c5540ed378a\"/>,\n",
       " <img alt=\"블랙 팬서: 와칸다 포에버\" class=\"img_thumb\" src=\"https://img1.daumcdn.net/thumb/C408x596/?fname=https%3A%2F%2Ft1.daumcdn.net%2Fmovie%2Ff2e234313de6543bb1ba4ad0e5d6ae389a26765b\"/>,\n",
       " <img alt=\"비상선언\" class=\"img_thumb\" src=\"https://img1.daumcdn.net/thumb/C408x596/?fname=https%3A%2F%2Ft1.daumcdn.net%2Fmovie%2F703122e5e7642b0f0c1403aacda268d39b7aa406\"/>,\n",
       " <img alt=\"스파이더맨: 노 웨이 홈\" class=\"img_thumb\" src=\"https://img1.daumcdn.net/thumb/C408x596/?fname=https%3A%2F%2Ft1.daumcdn.net%2Fmovie%2Febd9587dcdcc56548b5a476bf109f87d5a6098a5\"/>,\n",
       " <img alt=\"육사오(6/45)\" class=\"img_thumb\" src=\"https://img1.daumcdn.net/thumb/C408x596/?fname=https%3A%2F%2Ft1.daumcdn.net%2Fmovie%2Ff5c62530ef4f57a469bdb51cc065f2c47503f9d8\"/>,\n",
       " <img alt=\"헤어질 결심\" class=\"img_thumb\" src=\"https://img1.daumcdn.net/thumb/C408x596/?fname=https%3A%2F%2Ft1.daumcdn.net%2Fmovie%2F72cfc7293390c63db16779b67097d8703d2a5628\"/>,\n",
       " <img alt=\"외계+인 1부\" class=\"img_thumb\" src=\"https://img1.daumcdn.net/thumb/C408x596/?fname=https%3A%2F%2Ft1.daumcdn.net%2Fmovie%2F2a8ab1dc3f771b8d54e4fc9c4e0a543c8e3007df\"/>,\n",
       " <img alt=\"영웅\" class=\"img_thumb\" src=\"https://img1.daumcdn.net/thumb/C408x596/?fname=https%3A%2F%2Ft1.daumcdn.net%2Fmovie%2F762a642d585ecff70e0e5cfc4211d9a0f809bf3b\"/>,\n",
       " <img alt=\"해적: 도깨비 깃발\" class=\"img_thumb\" src=\"https://img1.daumcdn.net/thumb/C408x596/?fname=https%3A%2F%2Ft1.daumcdn.net%2Fmovie%2Fbaf8081db50faf38eec7a4001b81c201980e68a5\"/>,\n",
       " <img alt=\"브로커\" class=\"img_thumb\" src=\"https://img1.daumcdn.net/thumb/C408x596/?fname=https%3A%2F%2Ft1.daumcdn.net%2Fmovie%2F56e58d88507f1668b65f853e2b8d5ec311f84285\"/>,\n",
       " <img alt=\"신비한 동물들과 덤블도어의 비밀\" class=\"img_thumb\" src=\"https://img1.daumcdn.net/thumb/C408x596/?fname=https%3A%2F%2Ft1.daumcdn.net%2Fmovie%2F144a58726e78372bc4b79a789058a8e443dc3e22\"/>,\n",
       " <img alt=\"인생은 아름다워\" class=\"img_thumb\" src=\"https://img1.daumcdn.net/thumb/C408x596/?fname=https%3A%2F%2Ft1.daumcdn.net%2Fmovie%2Fcfe6a6b2431cb364e2330f417c3866e2fad97b18\"/>,\n",
       " <img alt=\"더 배트맨\" class=\"img_thumb\" src=\"https://img1.daumcdn.net/thumb/C408x596/?fname=https%3A%2F%2Ft1.daumcdn.net%2Fmovie%2F8cc69ee37e41d9fed49935446d3a6697f7467df4\"/>,\n",
       " <img alt=\"데시벨\" class=\"img_thumb\" src=\"https://img1.daumcdn.net/thumb/C408x596/?fname=https%3A%2F%2Ft1.daumcdn.net%2Fmovie%2Feb3c9f422e4d421f0892f3ee3a88c4b881f8ca67\"/>,\n",
       " <img alt=\"정직한 후보2\" class=\"img_thumb\" src=\"https://img1.daumcdn.net/thumb/C408x596/?fname=https%3A%2F%2Ft1.daumcdn.net%2Fmovie%2F30d12a275fd158459a5cd53f43480165165d433b\"/>,\n",
       " <img alt=\"씽2게더\" class=\"img_thumb\" src=\"https://img1.daumcdn.net/thumb/C408x596/?fname=https%3A%2F%2Ft1.daumcdn.net%2Fmovie%2F1021e3e3e714bc8ebf67f8c3e238a56ada885292\"/>,\n",
       " <img alt=\"극장판 짱구는 못말려: 수수께끼! 꽃피는 천하떡잎학교\" class=\"img_thumb\" src=\"https://img1.daumcdn.net/thumb/C408x596/?fname=https%3A%2F%2Ft1.daumcdn.net%2Fmovie%2Fa84755e53eb8e03b51d11099d1b809b419e12873\"/>,\n",
       " <img alt=\"블랙 아담\" class=\"img_thumb\" src=\"https://img1.daumcdn.net/thumb/C408x596/?fname=https%3A%2F%2Ft1.daumcdn.net%2Fmovie%2Ff09c88f6493299e351005152c06a668180f155f5\"/>,\n",
       " <img alt=\"킹메이커\" class=\"img_thumb\" src=\"https://img1.daumcdn.net/thumb/C408x596/?fname=https%3A%2F%2Ft1.daumcdn.net%2Fmovie%2F825baa1e98d8f33e4801d88b3a302739039c5cc4\"/>,\n",
       " <img alt=\"자백\" class=\"img_thumb\" src=\"https://img1.daumcdn.net/thumb/C408x596/?fname=https%3A%2F%2Ft1.daumcdn.net%2Fmovie%2F4127deb531fea9b766461efb61da18af55697d3c\"/>,\n",
       " <img alt=\"언차티드\" class=\"img_thumb\" src=\"https://img1.daumcdn.net/thumb/C408x596/?fname=https%3A%2F%2Ft1.daumcdn.net%2Fmovie%2Fa9ecc8ab020ca4129e7fc79a7f3a86fa328e63d0\"/>,\n",
       " <img alt=\"경관의 피\" class=\"img_thumb\" src=\"https://img1.daumcdn.net/thumb/C408x596/?fname=https%3A%2F%2Ft1.daumcdn.net%2Fmovie%2F6a40f6025e785344c32443ed10f7614960cf0c75\"/>,\n",
       " <img alt=\"오늘 밤, 세계에서 이 사랑이 사라진다 해도\" class=\"img_thumb\" src=\"https://img1.daumcdn.net/thumb/C408x596/?fname=https%3A%2F%2Ft1.daumcdn.net%2Fmovie%2F343661a7c1984ae8d0598a5af0c2998117407f52\"/>,\n",
       " <img alt=\"극장판 주술회전 0\" class=\"img_thumb\" src=\"https://img1.daumcdn.net/thumb/C408x596/?fname=https%3A%2F%2Ft1.daumcdn.net%2Fmovie%2Fbdec276db284e8c6d82f974cff11fa991ccd3f6b\"/>,\n",
       " <img alt=\"압꾸정\" class=\"img_thumb\" src=\"https://img1.daumcdn.net/thumb/C408x596/?fname=https%3A%2F%2Ft1.daumcdn.net%2Fmovie%2Fa2a065aa4da819fdd01ba4d6e6f86d1a4ffceecc\"/>,\n",
       " <img alt=\"극장판 포켓몬스터DP: 기라티나와 하늘의 꽃다발 쉐이미\" class=\"img_thumb\" src=\"https://img1.daumcdn.net/thumb/C408x596/?fname=https%3A%2F%2Ft1.daumcdn.net%2Fmovie%2Fe4b45df35e14a69d7a96579b4c612d2ba25ecd54\"/>,\n",
       " <img alt=\"이상한 나라의 수학자\" class=\"img_thumb\" src=\"https://img1.daumcdn.net/thumb/C408x596/?fname=https%3A%2F%2Ft1.daumcdn.net%2Fmovie%2F9ca21642451e2e68e3eec5b9691c2aba33b47d70\"/>,\n",
       " <img alt=\"명탐정 코난: 할로윈의 신부\" class=\"img_thumb\" src=\"https://img1.daumcdn.net/thumb/C408x596/?fname=https%3A%2F%2Ft1.daumcdn.net%2Fmovie%2Fd580cae2ce56f01bfe271f72ad4969baca69ae9f\"/>,\n",
       " <img alt=\"동감\" class=\"img_thumb\" src=\"https://img1.daumcdn.net/thumb/C408x596/?fname=https%3A%2F%2Ft1.daumcdn.net%2Fmovie%2F8c2484e01ae4ca85c8032675bc06f81b9f6501f1\"/>,\n",
       " <img alt=\"모비우스\" class=\"img_thumb\" src=\"https://img1.daumcdn.net/thumb/C408x596/?fname=https%3A%2F%2Ft1.daumcdn.net%2Fmovie%2F8ca142bd911045e25d8e8e1f1afcb1d1a118bfab\"/>,\n",
       " <img alt=\"늑대사냥\" class=\"img_thumb\" src=\"https://img1.daumcdn.net/thumb/C408x596/?fname=https%3A%2F%2Ft1.daumcdn.net%2Fmovie%2F47b7c4e1756e05d9cb41d0e503054bb2ccb413a6\"/>,\n",
       " <img alt=\"뽀로로 극장판 드래곤캐슬 대모험\" class=\"img_thumb\" src=\"https://img1.daumcdn.net/thumb/C408x596/?fname=https%3A%2F%2Ft1.daumcdn.net%2Fmovie%2F358e7c2af22c7e5c93e91253a9be82e553b2305c\"/>,\n",
       " <img alt=\"특송\" class=\"img_thumb\" src=\"https://img1.daumcdn.net/thumb/C408x596/?fname=https%3A%2F%2Ft1.daumcdn.net%2Fmovie%2Fba021bacaf87ba110d48e406408feccafb6f96a1\"/>,\n",
       " <img alt=\"니 부모 얼굴이 보고 싶다\" class=\"img_thumb\" src=\"https://img1.daumcdn.net/thumb/C408x596/?fname=https%3A%2F%2Ft1.daumcdn.net%2Fmovie%2F5f1bbf358d905c6a526940b1c81d3196015c3e7b\"/>,\n",
       " <img alt=\"놉\" class=\"img_thumb\" src=\"https://img1.daumcdn.net/thumb/C408x596/?fname=https%3A%2F%2Ft1.daumcdn.net%2Fmovie%2F72b4fc6907bd4584c844f167e2a816c848e16286\"/>,\n",
       " <img alt=\"리멤버\" class=\"img_thumb\" src=\"https://img1.daumcdn.net/thumb/C408x596/?fname=https%3A%2F%2Ft1.daumcdn.net%2Fmovie%2F0735b189276a819f8611fdac8c86074d014510b0\"/>,\n",
       " <img alt=\"킹스맨: 퍼스트 에이전트\" class=\"img_thumb\" src=\"https://img1.daumcdn.net/thumb/C408x596/?fname=https%3A%2F%2Ft1.daumcdn.net%2Fmovie%2F6b8b6ca0acd78221f254f00954744005c99160fb\"/>,\n",
       " <img alt=\"배드 가이즈\" class=\"img_thumb\" src=\"https://img1.daumcdn.net/thumb/C408x596/?fname=https%3A%2F%2Ft1.daumcdn.net%2Fmovie%2F5e205ec697a1386b146b4f8c709f06bcf72c84f4\"/>,\n",
       " <img alt=\"뜨거운 피\" class=\"img_thumb\" src=\"https://img1.daumcdn.net/thumb/C408x596/?fname=https%3A%2F%2Ft1.daumcdn.net%2Fmovie%2Fbc40ad380f429b74bc6559c555e43392706bf9c5\"/>]"
      ]
     },
     "execution_count": 45,
     "metadata": {},
     "output_type": "execute_result"
    }
   ],
   "source": [
    "titles"
   ]
  },
  {
   "cell_type": "code",
   "execution_count": 46,
   "metadata": {},
   "outputs": [
    {
     "data": {
      "text/plain": [
       "[<span class=\"txt_num\">22.05.18</span>,\n",
       " <span class=\"txt_num\">22.06.22</span>,\n",
       " <span class=\"txt_num\">22.12.14</span>,\n",
       " <span class=\"txt_num\">22.07.27</span>,\n",
       " <span class=\"txt_num\">22.09.07</span>,\n",
       " <span class=\"txt_num\">22.05.04</span>,\n",
       " <span class=\"txt_num\">22.08.10</span>,\n",
       " <span class=\"txt_num\">22.11.23</span>,\n",
       " <span class=\"txt_num\">22.06.01</span>,\n",
       " <span class=\"txt_num\">22.06.15</span>,\n",
       " <span class=\"txt_num\">22.07.06</span>,\n",
       " <span class=\"txt_num\">22.07.20</span>,\n",
       " <span class=\"txt_num\">22.11.09</span>,\n",
       " <span class=\"txt_num\">22.08.03</span>,\n",
       " <span class=\"txt_num\">21.12.15</span>,\n",
       " <span class=\"txt_num\">22.08.24</span>,\n",
       " <span class=\"txt_num\">22.06.29</span>,\n",
       " <span class=\"txt_num\">22.07.20</span>,\n",
       " <span class=\"txt_num\">22.12.21</span>,\n",
       " <span class=\"txt_num\">22.01.26</span>,\n",
       " <span class=\"txt_num\">22.06.08</span>,\n",
       " <span class=\"txt_num\">22.04.13</span>,\n",
       " <span class=\"txt_num\">22.09.28</span>,\n",
       " <span class=\"txt_num\">22.03.01</span>,\n",
       " <span class=\"txt_num\">22.11.16</span>,\n",
       " <span class=\"txt_num\">22.09.28</span>,\n",
       " <span class=\"txt_num\">22.01.05</span>,\n",
       " <span class=\"txt_num\">22.09.28</span>,\n",
       " <span class=\"txt_num\">22.10.19</span>,\n",
       " <span class=\"txt_num\">22.01.26</span>,\n",
       " <span class=\"txt_num\">22.10.26</span>,\n",
       " <span class=\"txt_num\">22.02.16</span>,\n",
       " <span class=\"txt_num\">22.01.05</span>,\n",
       " <span class=\"txt_num\">22.11.30</span>,\n",
       " <span class=\"txt_num\">22.02.17</span>,\n",
       " <span class=\"txt_num\">22.11.30</span>,\n",
       " <span class=\"txt_num\">22.06.01</span>,\n",
       " <span class=\"txt_num\">22.03.09</span>,\n",
       " <span class=\"txt_num\">22.07.13</span>,\n",
       " <span class=\"txt_num\">22.11.16</span>,\n",
       " <span class=\"txt_num\">22.03.30</span>,\n",
       " <span class=\"txt_num\">22.09.21</span>,\n",
       " <span class=\"txt_num\">22.07.28</span>,\n",
       " <span class=\"txt_num\">22.01.12</span>,\n",
       " <span class=\"txt_num\">22.04.27</span>,\n",
       " <span class=\"txt_num\">22.08.17</span>,\n",
       " <span class=\"txt_num\">22.10.26</span>,\n",
       " <span class=\"txt_num\">21.12.22</span>,\n",
       " <span class=\"txt_num\">22.05.04</span>,\n",
       " <span class=\"txt_num\">22.03.23</span>]"
      ]
     },
     "execution_count": 46,
     "metadata": {},
     "output_type": "execute_result"
    }
   ],
   "source": [
    "releases"
   ]
  },
  {
   "cell_type": "code",
   "execution_count": 49,
   "metadata": {},
   "outputs": [
    {
     "ename": "AttributeError",
     "evalue": "ResultSet object has no attribute 'text'. You're probably treating a list of elements like a single element. Did you call find_all() when you meant to call find()?",
     "output_type": "error",
     "traceback": [
      "\u001b[1;31m---------------------------------------------------------------------------\u001b[0m",
      "\u001b[1;31mAttributeError\u001b[0m                            Traceback (most recent call last)",
      "\u001b[1;32mUntitled-1.ipynb 셀 10\u001b[0m line \u001b[0;36m1\n\u001b[1;32m----> <a href='vscode-notebook-cell:Untitled-1.ipynb?jupyter-notebook#X13sdW50aXRsZWQ%3D?line=0'>1</a>\u001b[0m \u001b[39mprint\u001b[39m(audiences\u001b[39m.\u001b[39;49mtext)\n",
      "File \u001b[1;32md:\\Programfiles\\Python3.9\\lib\\site-packages\\bs4\\element.py:2289\u001b[0m, in \u001b[0;36mResultSet.__getattr__\u001b[1;34m(self, key)\u001b[0m\n\u001b[0;32m   2287\u001b[0m \u001b[39mdef\u001b[39;00m \u001b[39m__getattr__\u001b[39m(\u001b[39mself\u001b[39m, key):\n\u001b[0;32m   2288\u001b[0m \u001b[39m    \u001b[39m\u001b[39m\"\"\"Raise a helpful exception to explain a common code fix.\"\"\"\u001b[39;00m\n\u001b[1;32m-> 2289\u001b[0m     \u001b[39mraise\u001b[39;00m \u001b[39mAttributeError\u001b[39;00m(\n\u001b[0;32m   2290\u001b[0m         \u001b[39m\"\u001b[39m\u001b[39mResultSet object has no attribute \u001b[39m\u001b[39m'\u001b[39m\u001b[39m%s\u001b[39;00m\u001b[39m'\u001b[39m\u001b[39m. You\u001b[39m\u001b[39m'\u001b[39m\u001b[39mre probably treating a list of elements like a single element. Did you call find_all() when you meant to call find()?\u001b[39m\u001b[39m\"\u001b[39m \u001b[39m%\u001b[39m key\n\u001b[0;32m   2291\u001b[0m     )\n",
      "\u001b[1;31mAttributeError\u001b[0m: ResultSet object has no attribute 'text'. You're probably treating a list of elements like a single element. Did you call find_all() when you meant to call find()?"
     ]
    }
   ],
   "source": [
    "print(audiences.text)"
   ]
  },
  {
   "cell_type": "code",
   "execution_count": null,
   "metadata": {},
   "outputs": [],
   "source": []
  }
 ],
 "metadata": {
  "kernelspec": {
   "display_name": "Python 3",
   "language": "python",
   "name": "python3"
  },
  "language_info": {
   "codemirror_mode": {
    "name": "ipython",
    "version": 3
   },
   "file_extension": ".py",
   "mimetype": "text/x-python",
   "name": "python",
   "nbconvert_exporter": "python",
   "pygments_lexer": "ipython3",
   "version": "3.9.4"
  }
 },
 "nbformat": 4,
 "nbformat_minor": 2
}
