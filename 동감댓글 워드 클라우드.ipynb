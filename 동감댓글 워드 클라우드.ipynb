{
 "cells": [
  {
   "cell_type": "code",
   "execution_count": 1,
   "metadata": {},
   "outputs": [],
   "source": [
    "from wordcloud import wordcloud\n",
    "import pandas as pd\n",
    "import numpy as np\n",
    "import matplotlib.pyplot as plt"
   ]
  },
  {
   "cell_type": "code",
   "execution_count": 2,
   "metadata": {},
   "outputs": [
    {
     "data": {
      "text/html": [
       "<div>\n",
       "<style scoped>\n",
       "    .dataframe tbody tr th:only-of-type {\n",
       "        vertical-align: middle;\n",
       "    }\n",
       "\n",
       "    .dataframe tbody tr th {\n",
       "        vertical-align: top;\n",
       "    }\n",
       "\n",
       "    .dataframe thead th {\n",
       "        text-align: right;\n",
       "    }\n",
       "</style>\n",
       "<table border=\"1\" class=\"dataframe\">\n",
       "  <thead>\n",
       "    <tr style=\"text-align: right;\">\n",
       "      <th></th>\n",
       "      <th>Writer</th>\n",
       "      <th>Review</th>\n",
       "      <th>Date</th>\n",
       "    </tr>\n",
       "  </thead>\n",
       "  <tbody>\n",
       "    <tr>\n",
       "      <th>0</th>\n",
       "      <td>아쿠아피쉬</td>\n",
       "      <td>원작도 걍걍이었는데 굳이 왜 리메이크를;;;</td>\n",
       "      <td>2022.11.20</td>\n",
       "    </tr>\n",
       "    <tr>\n",
       "      <th>1</th>\n",
       "      <td>si**66</td>\n",
       "      <td>소소... 편지 나오는 장면은 코믹으로 넣은 건지</td>\n",
       "      <td>2022.11.20</td>\n",
       "    </tr>\n",
       "    <tr>\n",
       "      <th>2</th>\n",
       "      <td>ji**master</td>\n",
       "      <td>우리 이쁜 여진구를 위한~</td>\n",
       "      <td>2022.11.20</td>\n",
       "    </tr>\n",
       "    <tr>\n",
       "      <th>3</th>\n",
       "      <td>더블DX</td>\n",
       "      <td>잼있게..잘봤어요..배우들 연기좋아씀</td>\n",
       "      <td>2022.11.20</td>\n",
       "    </tr>\n",
       "    <tr>\n",
       "      <th>4</th>\n",
       "      <td>08**jsy</td>\n",
       "      <td>옛날 생각납니다 옛날 동감 다시 보고 싶어요</td>\n",
       "      <td>2022.11.20</td>\n",
       "    </tr>\n",
       "    <tr>\n",
       "      <th>...</th>\n",
       "      <td>...</td>\n",
       "      <td>...</td>\n",
       "      <td>...</td>\n",
       "    </tr>\n",
       "    <tr>\n",
       "      <th>355</th>\n",
       "      <td>ab**0810</td>\n",
       "      <td>재밌어용❤?❤?❤?</td>\n",
       "      <td>2022.11.19</td>\n",
       "    </tr>\n",
       "    <tr>\n",
       "      <th>356</th>\n",
       "      <td>wm**j3</td>\n",
       "      <td>잔잔한데 지루하지 않고 재미있게 봤어요.</td>\n",
       "      <td>2022.11.19</td>\n",
       "    </tr>\n",
       "    <tr>\n",
       "      <th>357</th>\n",
       "      <td>zpdlxk123</td>\n",
       "      <td>2000년 동감 보다 못하네요 오리지널을 봤다면 아쉽고 못봤다면 재미있게 볼수있는 영화</td>\n",
       "      <td>2022.11.19</td>\n",
       "    </tr>\n",
       "    <tr>\n",
       "      <th>358</th>\n",
       "      <td>쑥또기</td>\n",
       "      <td>지루한 부분도 있었지만 개인적으로 좋아하는 소재라 한번쯤 영화관에서 볼만했어용!</td>\n",
       "      <td>2022.11.19</td>\n",
       "    </tr>\n",
       "    <tr>\n",
       "      <th>359</th>\n",
       "      <td>ki**eye96</td>\n",
       "      <td>나쁘지도 좋지도 않은 그냥 평범했네요.</td>\n",
       "      <td>2022.11.19</td>\n",
       "    </tr>\n",
       "  </tbody>\n",
       "</table>\n",
       "<p>360 rows × 3 columns</p>\n",
       "</div>"
      ],
      "text/plain": [
       "         Writer                                            Review        Date\n",
       "0         아쿠아피쉬                          원작도 걍걍이었는데 굳이 왜 리메이크를;;;  2022.11.20\n",
       "1        si**66                       소소... 편지 나오는 장면은 코믹으로 넣은 건지  2022.11.20\n",
       "2    ji**master                                    우리 이쁜 여진구를 위한~  2022.11.20\n",
       "3          더블DX                              잼있게..잘봤어요..배우들 연기좋아씀  2022.11.20\n",
       "4       08**jsy                          옛날 생각납니다 옛날 동감 다시 보고 싶어요  2022.11.20\n",
       "..          ...                                               ...         ...\n",
       "355    ab**0810                                        재밌어용❤?❤?❤?  2022.11.19\n",
       "356      wm**j3                            잔잔한데 지루하지 않고 재미있게 봤어요.  2022.11.19\n",
       "357   zpdlxk123  2000년 동감 보다 못하네요 오리지널을 봤다면 아쉽고 못봤다면 재미있게 볼수있는 영화  2022.11.19\n",
       "358         쑥또기      지루한 부분도 있었지만 개인적으로 좋아하는 소재라 한번쯤 영화관에서 볼만했어용!  2022.11.19\n",
       "359   ki**eye96                             나쁘지도 좋지도 않은 그냥 평범했네요.  2022.11.19\n",
       "\n",
       "[360 rows x 3 columns]"
      ]
     },
     "execution_count": 2,
     "metadata": {},
     "output_type": "execute_result"
    }
   ],
   "source": [
    "df = pd.read_csv('d:/동감댓글_2022.11.20.csv')\n",
    "df"
   ]
  },
  {
   "cell_type": "code",
   "execution_count": 3,
   "metadata": {},
   "outputs": [
    {
     "data": {
      "text/plain": [
       "0                        원작도걍걍이었는데굳이왜리메이크를\n",
       "1                       소소편지나오는장면은코믹으로넣은건지\n",
       "2                               우리이쁜여진구를위한\n",
       "3                          잼있게잘봤어요배우들연기좋아씀\n",
       "4                       옛날생각납니다옛날동감다시보고싶어요\n",
       "                      ...                 \n",
       "355                                   재밌어용\n",
       "356                      잔잔한데지루하지않고재미있게봤어요\n",
       "357     년동감보다못하네요오리지널을봤다면아쉽고못봤다면재미있게볼수있는영화\n",
       "358    지루한부분도있었지만개인적으로좋아하는소재라한번쯤영화관에서볼만했어용\n",
       "359                       나쁘지도좋지도않은그냥평범했네요\n",
       "Name: Review, Length: 360, dtype: object"
      ]
     },
     "execution_count": 3,
     "metadata": {},
     "output_type": "execute_result"
    }
   ],
   "source": [
    "df['Review'] = df['Review'].str.replace('[^가-힣]', '', regex=True)\n",
    "df['Review']"
   ]
  },
  {
   "cell_type": "code",
   "execution_count": 7,
   "metadata": {},
   "outputs": [],
   "source": [
    "import konlpy"
   ]
  },
  {
   "cell_type": "code",
   "execution_count": 8,
   "metadata": {},
   "outputs": [
    {
     "name": "stdout",
     "output_type": "stream",
     "text": [
      "Unexpected exception formatting exception. Falling back to standard exception\n"
     ]
    },
    {
     "name": "stderr",
     "output_type": "stream",
     "text": [
      "Traceback (most recent call last):\n",
      "  File \"C:\\Users\\holly\\AppData\\Roaming\\Python\\Python39\\site-packages\\IPython\\core\\interactiveshell.py\", line 3550, in run_code\n",
      "    exec(code_obj, self.user_global_ns, self.user_ns)\n",
      "  File \"C:\\Users\\holly\\AppData\\Local\\Temp\\ipykernel_18712\\2734001876.py\", line 1, in <module>\n",
      "    kkma = konlpy.tag.Kkma()\n",
      "  File \"c:\\Users\\holly\\AppData\\Local\\Programs\\Python\\Python39\\lib\\site-packages\\konlpy\\tag\\_kkma.py\", line 44, in __init__\n",
      "    jvm.init_jvm(jvmpath, max_heap_size)\n",
      "  File \"c:\\Users\\holly\\AppData\\Local\\Programs\\Python\\Python39\\lib\\site-packages\\konlpy\\jvm.py\", line 55, in init_jvm\n",
      "    jvmpath = jvmpath or jpype.getDefaultJVMPath()\n",
      "  File \"c:\\Users\\holly\\AppData\\Local\\Programs\\Python\\Python39\\lib\\site-packages\\jpype\\_jvmfinder.py\", line 74, in getDefaultJVMPath\n",
      "    return finder.get_jvm_path()\n",
      "  File \"c:\\Users\\holly\\AppData\\Local\\Programs\\Python\\Python39\\lib\\site-packages\\jpype\\_jvmfinder.py\", line 212, in get_jvm_path\n",
      "    raise JVMNotFoundException(\"No JVM shared library file ({0}) \"\n",
      "jpype._jvmfinder.JVMNotFoundException: No JVM shared library file (jvm.dll) found. Try setting up the JAVA_HOME environment variable properly.\n",
      "\n",
      "During handling of the above exception, another exception occurred:\n",
      "\n",
      "Traceback (most recent call last):\n",
      "  File \"C:\\Users\\holly\\AppData\\Roaming\\Python\\Python39\\site-packages\\IPython\\core\\interactiveshell.py\", line 2144, in showtraceback\n",
      "    stb = self.InteractiveTB.structured_traceback(\n",
      "  File \"C:\\Users\\holly\\AppData\\Roaming\\Python\\Python39\\site-packages\\IPython\\core\\ultratb.py\", line 1435, in structured_traceback\n",
      "    return FormattedTB.structured_traceback(\n",
      "  File \"C:\\Users\\holly\\AppData\\Roaming\\Python\\Python39\\site-packages\\IPython\\core\\ultratb.py\", line 1326, in structured_traceback\n",
      "    return VerboseTB.structured_traceback(\n",
      "  File \"C:\\Users\\holly\\AppData\\Roaming\\Python\\Python39\\site-packages\\IPython\\core\\ultratb.py\", line 1173, in structured_traceback\n",
      "    formatted_exception = self.format_exception_as_a_whole(etype, evalue, etb, number_of_lines_of_context,\n",
      "  File \"C:\\Users\\holly\\AppData\\Roaming\\Python\\Python39\\site-packages\\IPython\\core\\ultratb.py\", line 1063, in format_exception_as_a_whole\n",
      "    self.get_records(etb, number_of_lines_of_context, tb_offset) if etb else []\n",
      "  File \"C:\\Users\\holly\\AppData\\Roaming\\Python\\Python39\\site-packages\\IPython\\core\\ultratb.py\", line 1115, in get_records\n",
      "    style = stack_data.style_with_executing_node(style, self._tb_highlight)\n",
      "  File \"C:\\Users\\holly\\AppData\\Roaming\\Python\\Python39\\site-packages\\stack_data\\core.py\", line 455, in style_with_executing_node\n",
      "    class NewStyle(style):\n",
      "  File \"c:\\Users\\holly\\AppData\\Local\\Programs\\Python\\Python39\\lib\\site-packages\\pygments\\style.py\", line 91, in __new__\n",
      "    ndef[4] = colorformat(styledef[3:])\n",
      "  File \"c:\\Users\\holly\\AppData\\Local\\Programs\\Python\\Python39\\lib\\site-packages\\pygments\\style.py\", line 58, in colorformat\n",
      "    assert False, \"wrong color format %r\" % text\n",
      "AssertionError: wrong color format 'ansiyellow'\n"
     ]
    }
   ],
   "source": [
    "kkma = konlpy.tag.Kkma()"
   ]
  },
  {
   "cell_type": "code",
   "execution_count": null,
   "metadata": {},
   "outputs": [],
   "source": []
  }
 ],
 "metadata": {
  "kernelspec": {
   "display_name": "Python 3",
   "language": "python",
   "name": "python3"
  },
  "language_info": {
   "codemirror_mode": {
    "name": "ipython",
    "version": 3
   },
   "file_extension": ".py",
   "mimetype": "text/x-python",
   "name": "python",
   "nbconvert_exporter": "python",
   "pygments_lexer": "ipython3",
   "version": "3.9.7"
  }
 },
 "nbformat": 4,
 "nbformat_minor": 2
}
